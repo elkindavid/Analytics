{
 "cells": [
  {
   "cell_type": "code",
   "execution_count": 2,
   "id": "b6b188ab",
   "metadata": {},
   "outputs": [
    {
     "data": {
      "application/vnd.jupyter.widget-view+json": {
       "model_id": "5330c93ca7e84a71a9d2c08a9c82ac77",
       "version_major": 2,
       "version_minor": 0
      },
      "text/plain": [
       "Dropdown(description='Año:', index=4, options=(2020, 2021, 2022, 2023, 2024), value=2024)"
      ]
     },
     "metadata": {},
     "output_type": "display_data"
    },
    {
     "data": {
      "application/vnd.jupyter.widget-view+json": {
       "model_id": "666e71fd91f945aab399e2f03d5bbe9c",
       "version_major": 2,
       "version_minor": 0
      },
      "text/plain": [
       "Dropdown(description='Trimestre:', options=('TODOS', 'Q1', 'Q2', 'Q3', 'Q4'), value='TODOS')"
      ]
     },
     "metadata": {},
     "output_type": "display_data"
    },
    {
     "data": {
      "application/vnd.jupyter.widget-view+json": {
       "model_id": "a25f0eec74d0415da3260a80a9bb33b4",
       "version_major": 2,
       "version_minor": 0
      },
      "text/plain": [
       "Output()"
      ]
     },
     "execution_count": 2,
     "metadata": {},
     "output_type": "execute_result"
    }
   ],
   "source": [
    "import pandas as pd\n",
    "import numpy as np\n",
    "import matplotlib.pyplot as plt\n",
    "import ipywidgets as widgets\n",
    "from IPython.display import display\n",
    "from matplotlib.ticker import ScalarFormatter, FuncFormatter\n",
    "import seaborn as sns\n",
    "from sklearn.metrics import mean_squared_error, r2_score\n",
    "from sklearn.linear_model import LinearRegression\n",
    "from sklearn.model_selection import train_test_split\n",
    "from sklearn.ensemble import RandomForestRegressor\n",
    "from sklearn.preprocessing import MinMaxScaler\n",
    "from datetime import datetime, timedelta\n",
    "from statsmodels.tsa.arima.model import ARIMA\n",
    "from ipywidgets import interact\n",
    "import matplotlib.ticker as ticker\n",
    "import warnings\n",
    "\n",
    "# Suprimir advertencias\n",
    "warnings.filterwarnings('ignore')\n",
    "\n",
    "df_precio_real = pd.read_excel(\"Precio Historico Carbon.xlsx\", sheet_name = 'Historico')\n",
    "\n",
    "# Convertir la columna 'Fecha' a formato datetime\n",
    "df_precio_real['Fecha'] = pd.to_datetime(df_precio_real['Fecha'], format='%d/%m/%Y')\n",
    "\n",
    "# Convertir todos los nombres de pilas a minúsculas\n",
    "df_precio_real['Pila'] = df_precio_real['Pila'].str.lower()\n",
    "\n",
    "# Filtrar los registros donde la columna 'Pila' sea igual a 'Pila 4SD'\n",
    "df_precio_real = df_precio_real[df_precio_real['Pila'] == 'pila 4sd']\n",
    "\n",
    "# Promediar los precios por día\n",
    "df_precio_real = df_precio_real.groupby(['Fecha']).agg({'Precio suministro': 'mean'}).reset_index()\n",
    "\n",
    "# Crear una lista de años únicos\n",
    "anios = df_precio_real['Fecha'].dt.year.unique()\n",
    "anios = sorted(anios)\n",
    "\n",
    "# Crear una lista de trimestres\n",
    "trimestres = ['TODOS','Q1', 'Q2', 'Q3', 'Q4']\n",
    "\n",
    "# Crear un widget de selección de año\n",
    "anio_selector = widgets.Dropdown(\n",
    "    options=anios,\n",
    "    value=anios[-1],\n",
    "    description='Año:',\n",
    "    disabled=False,\n",
    ")\n",
    "\n",
    "trimestre_selector = widgets.Dropdown(\n",
    "    options=trimestres,\n",
    "    value='TODOS',\n",
    "    description='Trimestre:',\n",
    "    disabled=False,\n",
    ")\n",
    "\n",
    "# Función para actualizar la gráfica\n",
    "def actualizar_grafica(anio, trimestre):\n",
    "    # Filtrar por año específico\n",
    "    df_filtrado = df_precio_real[df_precio_real['Fecha'].dt.year == anio]\n",
    "    \n",
    "    # Filtrar por trimestre específico\n",
    "    if trimestre == 'Q1':\n",
    "        df_filtrado = df_filtrado[(df_filtrado['Fecha'].dt.month >= 1) & (df_filtrado['Fecha'].dt.month <= 3)]\n",
    "    elif trimestre == 'Q2':\n",
    "        df_filtrado = df_filtrado[(df_filtrado['Fecha'].dt.month >= 4) & (df_filtrado['Fecha'].dt.month <= 6)]\n",
    "    elif trimestre == 'Q3':\n",
    "        df_filtrado = df_filtrado[(df_filtrado['Fecha'].dt.month >= 7) & (df_filtrado['Fecha'].dt.month <= 9)]\n",
    "    elif trimestre == 'Q4':\n",
    "        df_filtrado = df_filtrado[(df_filtrado['Fecha'].dt.month >= 10) & (df_filtrado['Fecha'].dt.month <= 12)]\n",
    "    elif trimestre == 'TODOS':\n",
    "        df_filtrado = df_filtrado[(df_filtrado['Fecha'].dt.month >= 1) & (df_filtrado['Fecha'].dt.month <= 12)]\n",
    "\n",
    "    # Asegurarse de que los datos estén ordenados cronológicamente por fecha\n",
    "    df_filtrado = df_filtrado.sort_values(by='Fecha')\n",
    "\n",
    "    techo = 400000\n",
    "    piso = 200000\n",
    "\n",
    "    # Crear la gráfica\n",
    "    plt.figure(figsize=(14, 8))\n",
    "\n",
    "    # Plotear las series originales\n",
    "    plt.plot(df_filtrado['Fecha'], df_filtrado['Precio suministro'], label='Precio Suministro', linewidth=2, color='green', alpha=0.5)\n",
    "    \n",
    "    # Añadir líneas punteadas para techo y piso\n",
    "    plt.axhline(y=techo, color='brown', linestyle='--', linewidth=1, label='Techo')\n",
    "    plt.axhline(y=piso, color='brown', linestyle='--', linewidth=1, label='Piso')\n",
    "    \n",
    "    plt.title(f'Comparación de Precios Año {anio} - {trimestre}')\n",
    "    plt.xlabel('Fecha')\n",
    "    plt.ylabel('Precio')\n",
    "    plt.gca().yaxis.set_major_formatter(ticker.ScalarFormatter(useOffset=False))\n",
    "    plt.ticklabel_format(style='plain', axis='y', useOffset=False)\n",
    "    plt.legend()\n",
    "    plt.grid(True)\n",
    "    \n",
    "    # Ajustar los límites del eje y para mostrar ambas series correctamente\n",
    "    min_y = min(200000, df_filtrado['Precio suministro'].min()) * 0.95\n",
    "    max_y = max(400000, df_filtrado['Precio suministro'].max()) * 1.05\n",
    "    plt.ylim(min_y - 10, max_y + 10)\n",
    "    \n",
    "    plt.show()\n",
    "\n",
    "# Mostrar los selectores de año y trimestre y la gráfica\n",
    "display(anio_selector, trimestre_selector)\n",
    "widgets.interactive_output(actualizar_grafica, {'anio': anio_selector, 'trimestre': trimestre_selector})"
   ]
  }
 ],
 "metadata": {
  "kernelspec": {
   "display_name": "Python 3 (ipykernel)",
   "language": "python",
   "name": "python3"
  },
  "language_info": {
   "codemirror_mode": {
    "name": "ipython",
    "version": 3
   },
   "file_extension": ".py",
   "mimetype": "text/x-python",
   "name": "python",
   "nbconvert_exporter": "python",
   "pygments_lexer": "ipython3",
   "version": "3.11.9"
  }
 },
 "nbformat": 4,
 "nbformat_minor": 5
}
